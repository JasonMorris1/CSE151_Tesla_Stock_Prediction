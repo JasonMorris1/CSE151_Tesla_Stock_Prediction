{
 "cells": [
  {
   "cell_type": "code",
   "execution_count": null,
   "metadata": {},
   "outputs": [],
   "source": [
    "import pandas as pd\n",
    "import seaborn as sns\n",
    "import numpy as np\n",
    "import matplotlib.pyplot as plt\n",
    "from matplotlib.dates import (YEARLY, DateFormatter,\n",
    "                              rrulewrapper, RRuleLocator, drange)\n",
    "from sklearn.model_selection import train_test_split\n",
    "from sklearn.linear_model import LogisticRegression\n",
    "from sklearn.metrics import classification_report\n",
    "from keras.models import Sequential\n",
    "from keras.layers import Dense"
   ]
  },
  {
   "cell_type": "code",
   "execution_count": null,
   "metadata": {},
   "outputs": [],
   "source": [
    "#!wget https://raw.githubusercontent.com/JasonMorris1/CSE151_Tesla_Stock_Prediction/main/tsla_2014_2023.csv\n",
    "df = pd.read_csv('tsla_2014_2023.csv')\n",
    "df['date']=pd.to_datetime(df['date'])\n",
    "df['year'] = df['date'].dt.year\n",
    "df = df.drop(columns=['open', 'high', 'low']) # not sure why we do this\n",
    "df.head()\n",
    "\n"
   ]
  },
  {
   "cell_type": "code",
   "execution_count": null,
   "metadata": {},
   "outputs": [],
   "source": [
    "df_train=df[(df.year<2022)]\n",
    "df_test=df[(df.year >=2022)]\n",
    "\n",
    "X_train=df_train.drop(['date','year','next_day_close'],axis=1)\n",
    "X_test=df_test.drop(['date','year','next_day_close'],axis=1)\n",
    "##\n",
    "y_train=df_train['next_day_close']\n",
    "y_test=df_test['next_day_close']\n",
    "\n",
    "X_train_date = df_train['date']\n",
    "X_test_date = df_test['date']"
   ]
  }
 ],
 "metadata": {
  "language_info": {
   "name": "python"
  }
 },
 "nbformat": 4,
 "nbformat_minor": 2
}
